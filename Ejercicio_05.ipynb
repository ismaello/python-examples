{
 "cells": [
  {
   "cell_type": "markdown",
   "metadata": {},
   "source": [
    "# Ejercicio 18\n",
    "\n",
    "## Enunciado\n",
    "Crea un programa que:\n",
    "\n",
    "1. Lea los datos referentes a la contaminación de Madrid de Marzo 2020 en un DataFrame de pandas.\n",
    "2. Indique el número de mediciones tomadas a las 03:00 **no válidas**.\n",
    "3. Muestre las estadísticas a nivel horario de los registros correspondientes a N02.\n",
    "\n",
    "## Datos\n",
    "\n",
    "- Listado de las estaciones de control: [enlace](https://datos.madrid.es/egob/catalogo/212629-1-estaciones-control-aire.csv)\n",
    "- Datos 2020: [enlace](https://datos.madrid.es/egob/catalogo/201200-10306316-calidad-aire-horario.zip)\n",
    "- Datos 2019: [enlace](https://datos.madrid.es/egob/catalogo/201200-42-calidad-aire-horario.zip)\n",
    "- Interpretación de los datos: [enlace](https://datos.madrid.es/FWProjects/egob/Catalogo/MedioAmbiente/Aire/Ficheros/Interprete_ficheros_%20calidad_%20del_%20aire_global.pdf)"
   ]
  },
  {
   "cell_type": "markdown",
   "metadata": {},
   "source": [
    "### ¿Qué cosas nuevas necesitamos saber?\n",
    "- DataFrames. La librería **pandas**."
   ]
  },
  {
   "cell_type": "markdown",
   "metadata": {},
   "source": [
    "### DataFrames. La librería **pandas**.\n",
    "\n",
    "Antes de poder utilizar la librería **pandas** debemos instalarla. Para ello, el comando es el siguiente:\n",
    "```console\n",
    "pip install -U pandas\n",
    "```\n",
    "\n",
    "**NOTA**: Recuerda ejecutar la consola como administrador en el caso de Windows o preceder el comando de **sudo** en el caso de Linux/MacOS."
   ]
  },
  {
   "cell_type": "code",
   "execution_count": null,
   "metadata": {},
   "outputs": [],
   "source": [
    "# una vez instalada, realizaremos el siguiente import\n",
    "import pandas as pd"
   ]
  },
  {
   "cell_type": "markdown",
   "metadata": {},
   "source": [
    "Pero, antes de empezar... qué es pandas?\n",
    "\n",
    "Pues entre otras cosas, pandas es una librería que nos brinda estructuras de datos denominados DataFrames. Para aquellos que tengáis conocimientos en bases de datos, sería el equivalente (a grosso modo) a una tabla."
   ]
  },
  {
   "cell_type": "markdown",
   "metadata": {},
   "source": [
    "#### Importando datos\n",
    "\n",
    "Para importar datos, existen numerosas opciones en función del origen de los datos.\n",
    "\n",
    "Todas ellas están disponibles en [este enlace](https://pandas.pydata.org/pandas-docs/stable/reference/io.html).\n",
    "\n",
    "Veamos un ejemplo de como leer un csv. Para ello utilizaremos los datos del COVID-19 proporcionados por el Ministerio de Sanidad disponibles en [este enlace](https://covid19.isciii.es/resources/serie_historica_acumulados.csv), los cuales debemos descargar."
   ]
  },
  {
   "cell_type": "code",
   "execution_count": null,
   "metadata": {},
   "outputs": [],
   "source": [
    "# en mi caso los he descargado en el directorio dónde tengo los ejercicios, por lo que lo haré de la siguiente manera:\n",
    "covid_df = pd.read_csv(\"serie_historica_acumulados.csv\", encoding=\"ISO-8859-1\")"
   ]
  },
  {
   "cell_type": "code",
   "execution_count": null,
   "metadata": {},
   "outputs": [],
   "source": [
    "# observemos que pinta tienen los datos\n",
    "covid_df"
   ]
  },
  {
   "cell_type": "markdown",
   "metadata": {},
   "source": [
    "Como podemos comprobar, por defecto nos ha tomado la primera fila como las cabeceras y, dado que lo ha separado correctamente en columnas, ha tomado la coma (,) como separador.\n",
    "\n",
    "Además, hemos tenido que indicarle el encoding en este caso ya que en la fila 1026 tenemos la palabra n**ú**mero y de no indicarle que el encodig es el correspondiente al alfabeto latino hubiera fallado (podéis comprobarlo quitano el parámetro en cuestión).\n",
    "\n",
    "Podéis consultar el resto de información (os hará falta) del método [aquí](https://pandas.pydata.org/pandas-docs/stable/reference/api/pandas.read_csv.html#pandas.read_csv)."
   ]
  },
  {
   "cell_type": "markdown",
   "metadata": {},
   "source": [
    "Veamos algunas funciones de utilidad:"
   ]
  },
  {
   "cell_type": "code",
   "execution_count": null,
   "metadata": {},
   "outputs": [],
   "source": [
    "covid_df.count() # conteo de registros no nulos (NaN) por columna"
   ]
  },
  {
   "cell_type": "code",
   "execution_count": null,
   "metadata": {},
   "outputs": [],
   "source": [
    "covid_df.describe() # estadísticas de registros no nulos (NaN) por columna numérica"
   ]
  },
  {
   "cell_type": "markdown",
   "metadata": {},
   "source": [
    "**NOTA**: Las estadíticas anteriores se han calculado sobre la suma total de todos los registros."
   ]
  },
  {
   "cell_type": "markdown",
   "metadata": {},
   "source": [
    "Veamos como obtener las estadísticas en base a los últimos datos conocidos"
   ]
  },
  {
   "cell_type": "code",
   "execution_count": null,
   "metadata": {},
   "outputs": [],
   "source": [
    "recent_covid_19 = covid_df[covid_df['FECHA'] == '13/4/2020'] # así obtenemos aquellos registros cuya fecha\n",
    "# coincide con la máxima observada"
   ]
  },
  {
   "cell_type": "code",
   "execution_count": null,
   "metadata": {},
   "outputs": [],
   "source": [
    "recent_covid_19"
   ]
  },
  {
   "cell_type": "markdown",
   "metadata": {},
   "source": [
    "Ahora si, obtengamos estadísticas de interes:"
   ]
  },
  {
   "cell_type": "code",
   "execution_count": null,
   "metadata": {},
   "outputs": [],
   "source": [
    "recent_covid_19.describe()"
   ]
  },
  {
   "cell_type": "markdown",
   "metadata": {},
   "source": [
    "Como podemos comprobar, por ejemplo, la media (mean) de casos por CCAA a 13 de abril está en torno a los 9000, mientras que la CCAA con mas casos (max) es Madrid con 48048 y la que menos (min) es Ceuta con 96."
   ]
  },
  {
   "cell_type": "markdown",
   "metadata": {},
   "source": [
    "Eso es todo, a por el ejercicio!"
   ]
  },
  {
   "cell_type": "markdown",
   "metadata": {},
   "source": [
    "## Solución"
   ]
  },
  {
   "cell_type": "code",
   "execution_count": null,
   "metadata": {},
   "outputs": [],
   "source": []
  },
  {
   "cell_type": "code",
   "execution_count": null,
   "metadata": {},
   "outputs": [],
   "source": []
  }
 ],
 "metadata": {
  "kernelspec": {
   "display_name": "Python 3",
   "language": "python",
   "name": "python3"
  },
  "language_info": {
   "codemirror_mode": {
    "name": "ipython",
    "version": 3
   },
   "file_extension": ".py",
   "mimetype": "text/x-python",
   "name": "python",
   "nbconvert_exporter": "python",
   "pygments_lexer": "ipython3",
   "version": "3.7.2"
  }
 },
 "nbformat": 4,
 "nbformat_minor": 4
}
