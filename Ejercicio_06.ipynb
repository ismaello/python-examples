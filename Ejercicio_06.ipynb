{
 "cells": [
  {
   "cell_type": "markdown",
   "metadata": {},
   "source": [
    "# Ejercicio 19\n",
    "\n",
    "## Enunciado\n",
    "Crea un programa que:\n",
    "\n",
    "1. Lea los datos referentes a la contaminación de Madrid de Marzo 2020 en un DataFrame de pandas.\n",
    "2. Genere una nueva columna indicando el número de mediciones de **NO2** del día no válidas.\n",
    "3. Crea un mapa de calor donde poder observar el resultado del punto anterior en función del día y la estación.\n",
    "\n",
    "## Datos\n",
    "\n",
    "- Listado de las estaciones de control: [enlace](https://datos.madrid.es/egob/catalogo/212629-1-estaciones-control-aire.csv)\n",
    "- Datos 2020: [enlace](https://datos.madrid.es/egob/catalogo/201200-10306316-calidad-aire-horario.zip)\n",
    "- Datos 2019: [enlace](https://datos.madrid.es/egob/catalogo/201200-42-calidad-aire-horario.zip)\n",
    "- Interpretación de los datos: [enlace](https://datos.madrid.es/FWProjects/egob/Catalogo/MedioAmbiente/Aire/Ficheros/Interprete_ficheros_%20calidad_%20del_%20aire_global.pdf)"
   ]
  },
  {
   "cell_type": "markdown",
   "metadata": {},
   "source": [
    "### ¿Qué cosas nuevas necesitamos saber?\n",
    "- Funciones lambda.\n",
    "- Creación de nuevas columnas en un DataFrame."
   ]
  },
  {
   "cell_type": "markdown",
   "metadata": {},
   "source": [
    "### Funciones lambda.\n",
    "\n",
    "Las funciones lambda o funciones anónimas son aquellas que no requieren de definición previa. Para crear una es tan sencillo como en los siguientes ejemplos:"
   ]
  },
  {
   "cell_type": "code",
   "execution_count": null,
   "metadata": {},
   "outputs": [],
   "source": [
    "dividir = lambda x, y: x / y # x e y indican que nuestra lambda necesita 2 parametros\n",
    "print(dividir(10, 2)) # por ello llamamos a lambda con 2 argumentos"
   ]
  },
  {
   "cell_type": "markdown",
   "metadata": {},
   "source": [
    "Podemos además hacer uso de otras funciones dentro de nuestras funciones lambda."
   ]
  },
  {
   "cell_type": "code",
   "execution_count": null,
   "metadata": {},
   "outputs": [],
   "source": [
    "concatenar = lambda x: ''.join(x)\n",
    "print(concatenar(['1','2','3','4','5']))"
   ]
  },
  {
   "cell_type": "markdown",
   "metadata": {},
   "source": [
    "### Creación de nuevas columnas en un DataFrame.\n",
    "\n",
    "Veamos como crear nuevas columnas en un DataFrame. Para ello, primero generemos unos datos a modos de ejemplo."
   ]
  },
  {
   "cell_type": "code",
   "execution_count": null,
   "metadata": {},
   "outputs": [],
   "source": [
    "# una vez instalada, realizaremos el siguiente import\n",
    "import pandas as pd\n",
    "import random"
   ]
  },
  {
   "cell_type": "code",
   "execution_count": null,
   "metadata": {},
   "outputs": [],
   "source": [
    "data = {'numeros': [random.randint(75, 125) for _ in range(100)]} # generamos 100 números aleatorios ente 75 y 125"
   ]
  },
  {
   "cell_type": "code",
   "execution_count": null,
   "metadata": {},
   "outputs": [],
   "source": [
    "df = pd.DataFrame(data)\n",
    "df"
   ]
  },
  {
   "cell_type": "code",
   "execution_count": null,
   "metadata": {},
   "outputs": [],
   "source": [
    "# veamos como crear una columna que nos indique si es par\n",
    "df['es_par'] = (df['numeros'] % 2) == 0\n",
    "df"
   ]
  },
  {
   "cell_type": "code",
   "execution_count": null,
   "metadata": {},
   "outputs": [],
   "source": [
    "# ahora hagamos una nueva columna multiplicando el número oginal por 5\n",
    "df['por_5'] = df['numeros'] * 5\n",
    "df"
   ]
  },
  {
   "cell_type": "code",
   "execution_count": null,
   "metadata": {},
   "outputs": [],
   "source": [
    "# o simplemente una columna con un valor constante\n",
    "df['constante'] = 'Constante'\n",
    "df"
   ]
  },
  {
   "cell_type": "code",
   "execution_count": null,
   "metadata": {},
   "outputs": [],
   "source": [
    "# supongamos que ahora quiero crear una columna con un número aleatorio...\n",
    "# lo normal sería hacer esto, pero...\n",
    "df['random'] = random.randint(1, 100)\n",
    "df"
   ]
  },
  {
   "cell_type": "code",
   "execution_count": null,
   "metadata": {},
   "outputs": [],
   "source": [
    "# como podemos ver, todos tienen el mismo valor, por qué?\n",
    "# porque el número aleatorio solo lo ha creado una vez y luego ha asignado ese valor a todas la columnas\n",
    "# paa hacerlo correctamente, debemos hacerlo de esta manera para generar tantos numeros aleatorios como\n",
    "# filas tenga el df\n",
    "df['random'] = df.apply(lambda x: random.randint(1, 10), axis=1) # axis = 1 indica que la operación se realiza a nivel de fila\n",
    "df"
   ]
  },
  {
   "cell_type": "code",
   "execution_count": null,
   "metadata": {},
   "outputs": [],
   "source": [
    "# tambien podemos generar un numero aletorio comprendendido entre los valores de dos columnas\n",
    "# por ejemplo\n",
    "df['random_numeros_por5'] = df[['numeros', 'por_5']].apply(lambda x: random.randint(x[0], x[1]), axis=1)\n",
    "df"
   ]
  },
  {
   "cell_type": "code",
   "execution_count": null,
   "metadata": {},
   "outputs": [],
   "source": [
    "# por último, también podemos aplicar lambdas a nivel de columna\n",
    "df['numeros_mas_10'] = df['numeros'].apply(lambda x: x+10)\n",
    "df"
   ]
  },
  {
   "cell_type": "markdown",
   "metadata": {},
   "source": [
    "Esto se debe a que cuando hacemos algo del tipo df[['', '']] estamos obteniendo otro DataFrame mientras que cuando hacemos df[''] obtenemos solo la columna en cuestión (serie) y por ello ejecutamos la lambda no a nivel de fila si no a nivel de columna (para cada elemento de la misma)."
   ]
  },
  {
   "cell_type": "markdown",
   "metadata": {},
   "source": [
    "Eso es todo, a por el ejercicio!\n",
    "\n",
    "**NOTA**: En la solución del Ejercicio 18 se explica como crear gráficos a partir de lo datos de un DataFrame en el apartado de Bonus del final.\n",
    "\n",
    "Puedes hacerlo como prefieras, pero si lo vas a hacer directamente sobre el DataFrame, es probable que necesites [pivotar](https://www.geeksforgeeks.org/python-pandas-pivot/) alguna columna."
   ]
  },
  {
   "cell_type": "markdown",
   "metadata": {},
   "source": [
    "## Solución"
   ]
  },
  {
   "cell_type": "code",
   "execution_count": null,
   "metadata": {},
   "outputs": [],
   "source": []
  },
  {
   "cell_type": "code",
   "execution_count": null,
   "metadata": {},
   "outputs": [],
   "source": []
  }
 ],
 "metadata": {
  "kernelspec": {
   "display_name": "Python 3",
   "language": "python",
   "name": "python3"
  },
  "language_info": {
   "codemirror_mode": {
    "name": "ipython",
    "version": 3
   },
   "file_extension": ".py",
   "mimetype": "text/x-python",
   "name": "python",
   "nbconvert_exporter": "python",
   "pygments_lexer": "ipython3",
   "version": "3.7.2"
  }
 },
 "nbformat": 4,
 "nbformat_minor": 4
}
